{
 "cells": [
  {
   "cell_type": "code",
   "execution_count": null,
   "id": "desperate-circular",
   "metadata": {},
   "outputs": [],
   "source": [
    "import json\n",
    "\n",
    "json_file = \"daily_eur_usd.json\"\n",
    "\n",
    "with open(json_file, \"r\") as ifile:\n",
    "    data = json.load(ifile)\n",
    "    with open(json_file.split('.')[0] + \".csv\", \"w\") as ofile:\n",
    "        ofile.write(\"date,open,high,low,close\\n\")\n",
    "        for date, vals in data[\"Time Series FX (Daily)\"].items():\n",
    "            row = f\"{date},{vals['1. open']},{vals['2. high']},{vals['3. low']},{vals['4. close']}\\n\"\n",
    "            ofile.write(row)"
   ]
  }
 ],
 "metadata": {
  "kernelspec": {
   "display_name": "Python 3",
   "language": "python",
   "name": "python3"
  },
  "language_info": {
   "codemirror_mode": {
    "name": "ipython",
    "version": 3
   },
   "file_extension": ".py",
   "mimetype": "text/x-python",
   "name": "python",
   "nbconvert_exporter": "python",
   "pygments_lexer": "ipython3",
   "version": "3.7.10"
  }
 },
 "nbformat": 4,
 "nbformat_minor": 5
}